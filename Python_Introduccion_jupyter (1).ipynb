{
  "nbformat": 4,
  "nbformat_minor": 0,
  "metadata": {
    "kernelspec": {
      "display_name": "Python 3",
      "language": "python",
      "name": "python3"
    },
    "language_info": {
      "codemirror_mode": {
        "name": "ipython",
        "version": 3
      },
      "file_extension": ".py",
      "mimetype": "text/x-python",
      "name": "python",
      "nbconvert_exporter": "python",
      "pygments_lexer": "ipython3",
      "version": "3.7.1"
    },
    "colab": {
      "provenance": []
    }
  },
  "cells": [
    {
      "cell_type": "code",
      "source": [],
      "metadata": {
        "id": "Auq5QgRCDiVA"
      },
      "execution_count": null,
      "outputs": []
    },
    {
      "cell_type": "markdown",
      "source": [
        "# Valor presente neto(VPN):\n",
        "\n",
        "es una herramienta de análisis financiero que calcula la diferencia entre el valor actual de los flujos de efectivo futuros generados por una inversión y su costo inicial. Este método considera el valor del dinero en el tiempo para evaluar la rentabilidad de un proyecto: si el VPN es positivo, la inversión es rentable; si es negativo, no lo es; y si es cero, no cambia el valor de la empresa.\n",
        "\n"
      ],
      "metadata": {
        "id": "9Pj_NMG1D7D0"
      }
    },
    {
      "cell_type": "markdown",
      "source": [
        "\\[\n",
        "$$\n",
        "VPN=\\ sum_{t=0} ^{n} \\frac{C_t}{(1+r)^t}-C_0\n",
        "$$\n",
        "\\]"
      ],
      "metadata": {
        "id": "M2STC0TZFPry"
      }
    },
    {
      "cell_type": "code",
      "source": [
        "inversion_inicial=10000\n",
        "flujo_ano_1=3000\n",
        "flujo_ano_2=3000\n",
        "flujo_ano_3=3000\n",
        "\n",
        "tasa_descuento=0.05\n"
      ],
      "metadata": {
        "id": "4Gl7vx4VHicO"
      },
      "execution_count": 5,
      "outputs": []
    },
    {
      "cell_type": "code",
      "source": [
        "vpn=(flujo_ano_1/(1+tasa_descuento)**1)+\\\n",
        "    (flujo_ano_2/(1+tasa_descuento)**2)+\\\n",
        "    (flujo_ano_3/(1+tasa_descuento)**3) - inversion_inicial\n",
        "print(\"Valor presente neto(VPN) es:\",vpn)\n"
      ],
      "metadata": {
        "colab": {
          "base_uri": "https://localhost:8080/"
        },
        "id": "fnwnAwobH8Ot",
        "outputId": "107bd3bf-2d04-4605-8eb4-2183e19e5124"
      },
      "execution_count": 15,
      "outputs": [
        {
          "output_type": "stream",
          "name": "stdout",
          "text": [
            "Valor presente neto(VPN) es: -1830.2559118885656\n"
          ]
        }
      ]
    },
    {
      "cell_type": "code",
      "source": [
        "if vpn>0:\n",
        "  print(\"la inversion es rentable, ya que nos dio positivo\")\n",
        "\n",
        "else:\n",
        "  print(\"el proyecto no es viable, ya que el VPN es negativo\")"
      ],
      "metadata": {
        "colab": {
          "base_uri": "https://localhost:8080/"
        },
        "id": "V1c5j3bkJjsC",
        "outputId": "b1bf1ed7-7005-49b7-8a13-31f488c0ea2f"
      },
      "execution_count": 14,
      "outputs": [
        {
          "output_type": "stream",
          "name": "stdout",
          "text": [
            "el proyecto no es viable, ya que el VPN es negativo\n"
          ]
        }
      ]
    },
    {
      "cell_type": "markdown",
      "source": [],
      "metadata": {
        "id": "4PXQo665JgDC"
      }
    },
    {
      "cell_type": "markdown",
      "source": [],
      "metadata": {
        "id": "lvNrTUfGIvk2"
      }
    },
    {
      "cell_type": "markdown",
      "source": [
        "Donde:\n",
        "-\\(C_t) es el flujo de caja en el tiempo \\(t\\).\n",
        "- \\(r\\) es la tasa de descuento.\n",
        "-\\(n\\) es el numero total de periodos.\n",
        "-\\C_0\\) es la inversion inicial\n",
        "\n",
        "## interpretacion\n",
        "- si \\(VPN>0\\), la inversion es rentable.\n",
        "- si \\(VPN<0\\), la inversion no es rentable.\n",
        "- si \\(VPN=0\\), la inversion no genera ni perdidas ni ganancias.\n",
        "\n",
        "## Enlace util\n",
        "para tener mas informacion sobre el valor presente Neto, puedes consultar\n",
        "el siguiente [link] (https://www.gerencie.com/valor-presente-neto.html).\n"
      ],
      "metadata": {
        "id": "r4zPpntQFVJh"
      }
    }
  ]
}