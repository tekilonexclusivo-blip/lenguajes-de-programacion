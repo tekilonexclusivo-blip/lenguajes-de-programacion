{
  "nbformat": 4,
  "nbformat_minor": 0,
  "metadata": {
    "kernelspec": {
      "display_name": "Python 3",
      "language": "python",
      "name": "python3"
    },
    "language_info": {
      "codemirror_mode": {
        "name": "ipython",
        "version": 3
      },
      "file_extension": ".py",
      "mimetype": "text/x-python",
      "name": "python",
      "nbconvert_exporter": "python",
      "pygments_lexer": "ipython3",
      "version": "3.7.1"
    },
    "colab": {
      "provenance": []
    }
  },
  "cells": [
    {
      "cell_type": "markdown",
      "metadata": {
        "id": "0hwPdlcoeJV6"
      },
      "source": [
        "# Introducción a Jupyter Notebook\n",
        "\n",
        "Juyter, es un entorno básico que permite desarrollar código en Python e integrar de forma dinámica documentos de texto, expresiones matemáticas, gráficas o imagenes.\n",
        "\n",
        "El notebook se divide en diferentes celdas en las que se escribe el codigo y se ejecuta:\n"
      ]
    },
    {
      "cell_type": "code",
      "metadata": {
        "id": "iL4uef8ieOEr"
      },
      "source": [],
      "execution_count": null,
      "outputs": []
    },
    {
      "cell_type": "code",
      "source": [
        "#Valor presente Neto (VPN)\n",
        "\n",
        "#es una herramienta de análisis financiero que calcula\n",
        "#la diferencia entre el valor actual de los flujos de efectivo\n",
        "#futuros generados por una inversión y su costo inicial.\n",
        "#Este método considera el valor DEl dinero\n",
        "#En el tiempo para evaluar la rentabilidad de un\n",
        "#proyecto: si el VPN es positivo, la inversión es rentable;\n",
        "#si es negativo, no lo es; y si es cero, no cambia el valor de la empresa.\n",
        "\n",
        "##Formula del valor presente Neto (VPN)\n",
        "\n",
        " /[\n",
        " $$\n",
        " VPN = /sum_{t=0}^{n} / frac {c_t}{(1+r)^t} - c_0\n",
        " $$\n",
        "\n",
        "/]"
      ],
      "metadata": {
        "colab": {
          "base_uri": "https://localhost:8080/",
          "height": 106
        },
        "id": "O8Pd93iO_P7u",
        "outputId": "e6d05d69-2eba-44ce-931e-222aad3d33c8"
      },
      "execution_count": 11,
      "outputs": [
        {
          "output_type": "error",
          "ename": "IndentationError",
          "evalue": "unexpected indent (ipython-input-938570870.py, line 12)",
          "traceback": [
            "\u001b[0;36m  File \u001b[0;32m\"/tmp/ipython-input-938570870.py\"\u001b[0;36m, line \u001b[0;32m12\u001b[0m\n\u001b[0;31m    [()\u001b[0m\n\u001b[0m    ^\u001b[0m\n\u001b[0;31mIndentationError\u001b[0m\u001b[0;31m:\u001b[0m unexpected indent\n"
          ]
        }
      ]
    },
    {
      "cell_type": "code",
      "metadata": {
        "id": "WxtpJfoAeOBC"
      },
      "source": [],
      "execution_count": null,
      "outputs": []
    },
    {
      "cell_type": "markdown",
      "metadata": {
        "id": "K2UCo_NKeJV8"
      },
      "source": [
        "\n",
        "## Edición de celdas\n",
        "\n",
        "Para editar una celda, dar doble clic en la celda a editar y esta debe cambiar a color verde, como se aprecia en la siguiente imagen :\n",
        "\n",
        "\n",
        "![edicion%20de%20celda.JPG](attachment:edicion%20de%20celda.JPG)"
      ]
    },
    {
      "cell_type": "markdown",
      "metadata": {
        "id": "xZKcjJXmeJV9"
      },
      "source": [
        "## Ejecutar código\n",
        "\n",
        "para ejecutar un codigo, la celda debe estar en azul, se debe tener presente que si la linea de código es de Python\n",
        "se debe seleccionar en la pestaña el tipo de celda en \"code\" , si es texto debe debe estar en \"markdown\" para que pueda\n",
        "compilar sin problemas.\n",
        "\n",
        "![ejecutar%20celda.JPG](attachment:ejecutar%20celda.JPG)\n",
        "\n",
        "Ejecutar linea de comandos Python\n",
        "\n",
        "![code.JPG](attachment:code.JPG)\n",
        "\n",
        "\n",
        "Ejecutar texto\n",
        "\n",
        "\n",
        "![markdown.JPG](attachment:markdown.JPG)\n",
        "\n",
        "\n",
        "Una celda se ejecuta presionando las teclas *Control + Enter * o si se van a ejecutar celda por celda se presiona *Shift + Enter* , otra opcion es seleccionar la celda a ejecutar y se da clic en la flecha nicada en la barra de heramienta que indica *Run*\n",
        "\n",
        "\n",
        "![tools.JPG](attachment:tools.JPG)\n",
        "\n",
        "\n",
        "Consideraciones:\n",
        "\n",
        "Si la celda registra **In []** --> Indica que la celda no se ha compilado\n",
        "\n",
        "Si la celda registra **In[*]** --> indica que la celda se encuentra en ejecución\n",
        "\n",
        "\n"
      ]
    },
    {
      "cell_type": "markdown",
      "metadata": {
        "id": "Vsp_ls15eJV-"
      },
      "source": [
        "## Texto\n",
        "\n",
        "Una celda que se encuentre en modo texto siempre el tipo de código debe estar en \"markdown\", *Jupyter* utiliza la siguiente\n",
        "sintaxís para el dividir en documento con encabezados y diferentes sessiones:\n",
        "\n",
        "*Jupyter*, permite dividir hasta 5 sessiones el documento anteponendo el simbolo **#** según el siguiente orden:\n",
        "\n",
        "\n",
        "![encabezados.JPG](attachment:encabezados.JPG)\n",
        "\n",
        "    \n",
        "    "
      ]
    },
    {
      "cell_type": "markdown",
      "metadata": {
        "id": "Qfy-JrRZeJV-"
      },
      "source": [
        "# Título 1\n",
        "\n",
        "## Título 2\n",
        "\n",
        "### Título 3\n",
        "\n",
        "#### Título 4\n",
        "\n",
        "#### Título 5"
      ]
    },
    {
      "cell_type": "markdown",
      "metadata": {
        "id": "pFN_69wqeJV_"
      },
      "source": [
        "Para darle formato a una lista se antepone el simbolo (-, + ó *) y se deja un espacio, ejemplo:\n",
        "\n",
        "![format.JPG](attachment:format.JPG)\n",
        "\n",
        "\n",
        "Compras:\n",
        "  - tomates\n",
        "  - huevos\n",
        "  - pollo\n",
        "  \n",
        "  \n",
        "Para crear **Listas anidadas** se añade cuatro espacios en blanco antes de cada simbolo (-, + ó *) ejemplo:\n",
        "\n",
        "![listas.PNG](attachment:listas.PNG)\n",
        "\n",
        "\n",
        "* Lista 1\n",
        "    * Lista 2\n",
        "        * Lista 3\n",
        "        * lista 4\n",
        "            * Lista 5\n",
        "            * Lista 6"
      ]
    },
    {
      "cell_type": "markdown",
      "metadata": {
        "id": "a7zN3lFUeJWB"
      },
      "source": [
        "para crear **Listas ordendas** se coloca el número seguido de un punto (1.) y *Jupyter* al compilar organiza automaticamente el texto, ejemplo:\n",
        "\n",
        "\n",
        "![listord.PNG](attachment:listord.PNG)\n",
        "\n",
        "1. lista\n",
        "2. lista 2\n",
        "    1. lista 3\n",
        "        1. lista 4\n",
        "        2. lista 5\n",
        "           "
      ]
    },
    {
      "cell_type": "markdown",
      "metadata": {
        "id": "Z5TPlNQzeJWC"
      },
      "source": [
        "\n",
        "## Reglas horizontales\n",
        "\n",
        "\n",
        "Permite separar de forma visual sesiones de texto, ejemplo:\n",
        "\n",
        "\n",
        "![lineas.PNG](attachment:lineas.PNG)\n",
        "\n",
        "* * *\n",
        "Separa cuadros de texto de forma visual\n",
        "- - -\n",
        "\n",
        "se observa las lineas\n",
        "_ _ _"
      ]
    },
    {
      "cell_type": "markdown",
      "metadata": {
        "id": "TInvBlbqeJWD"
      },
      "source": [
        "## Énfasis ( Cursiva y negrita)\n",
        "\n",
        "*Jupyter*, permite seleccionar el texto en *cursiva* y/o en **negrita**, utilizando la siguiente sintáxis:\n",
        "\n",
        "![enfasis.PNG](attachment:enfasis.PNG)\n",
        "\n",
        "*cursiva* ó _cursiva_\n",
        "\n",
        "**negrita** ó __negrita__\n",
        "\n",
        "***cursiva y negrita*** ó ___cursiva y negrita___\n"
      ]
    },
    {
      "cell_type": "markdown",
      "metadata": {
        "id": "5DziFa1ZeJWD"
      },
      "source": [
        "## Citas\n",
        "\n",
        "Se utiliza el símbolo mayor que (>) al comiendo del texto\n",
        "\n",
        "![citas.PNG](attachment:citas.PNG)\n",
        "\n",
        "> Podemos saber poco del futuro, pero lo suficiente para darnos cuenta de que hay mucho que hacer.  — Alan Turing"
      ]
    },
    {
      "cell_type": "markdown",
      "metadata": {
        "id": "nfctK_0geJWE"
      },
      "source": [
        "## Latex\n",
        "\n",
        "*Jupyter*, permite escribir código en *LATEX* el cual facilita la escritura de expresiones matemáticas, siempre se debe tener presente que el tipo de celda debe estar en \"markdown\"\n",
        "\n",
        "Se antepone y se finaliza con dos simbolos $$, para que *Python* entienda que el código está escrito en **Latex**\n",
        "\n",
        "![latex.JPG](attachment:latex.JPG)"
      ]
    },
    {
      "cell_type": "code",
      "metadata": {
        "id": "PrVQyvhOgBgW"
      },
      "source": [],
      "execution_count": null,
      "outputs": []
    },
    {
      "cell_type": "markdown",
      "metadata": {
        "id": "_bySn-mveJWF"
      },
      "source": [
        "$$\\alpha$$\n",
        "\n",
        "$$x_i=\\sqrt[n]{\\frac{a_i}{b_i}}$$\n",
        "\n",
        "$$\\iint \\Phi(x, y)dxdy$$\n"
      ]
    },
    {
      "cell_type": "markdown",
      "metadata": {
        "id": "db3jAFTReJWG"
      },
      "source": [
        "### Alfabeto griego\n",
        "\n",
        "En la siguiente talbla se relaciona la forma de escribir en **Latex** el alfabeto griego\n",
        "\n",
        "![alfa.png](attachment:alfa.png)"
      ]
    },
    {
      "cell_type": "markdown",
      "metadata": {
        "id": "jsjrRgWneJWG"
      },
      "source": [
        "### Simbolos matemáticos y expresiones:\n",
        "\n",
        "**Simbolos**\n",
        "\n",
        "![sim.png](attachment:sim.png)\n",
        "\n",
        "**Expresiones**\n",
        "\n",
        "![expresiones.JPG](attachment:expresiones.JPG)"
      ]
    },
    {
      "cell_type": "markdown",
      "metadata": {
        "id": "YzfoUx_CeJWH"
      },
      "source": [
        "## URL´s o enlaces\n",
        "\n",
        "*jupyter*, tiene la facilidad de anexar links e hipervinculalos, se escribe de la siguiente forma:\n",
        "    \n",
        "   ![url.PNG](attachment:url.PNG)\n",
        "    \n",
        "    [ Nombre del enlace](url)\n",
        "    \n",
        "\n",
        "\n",
        "    \n",
        "[Stack overflow](https://stackoverflow.com)\n",
        "    "
      ]
    },
    {
      "cell_type": "markdown",
      "metadata": {
        "id": "-jvUOVbyeJWI"
      },
      "source": [
        "## Imágenes\n",
        "\n",
        "Para insertar imagenes se realiza de antepone el símbolo ! dentro [] colocammos el nombre que va tener la imagen y dentro () la url en la que se encuentra la imagen ejemplo:\n",
        "\n",
        "![ima.PNG](attachment:ima.PNG)\n",
        "\n",
        "\n",
        "\n",
        "   ![Aurora Boreal](https://cdn.civitatis.com/islandia/reikiavik/galeria/aurora-boreal.jpg)\n"
      ]
    },
    {
      "cell_type": "markdown",
      "metadata": {
        "id": "7Wz_sQhJeJWI"
      },
      "source": [
        "\n",
        "  Otra forma de insertar imagenes en *Jupyter* es seguir los siguientes pasos:\n",
        "  \n",
        "  \n",
        "  1. Dar clic en **Edit** y luego en **Insert Image**\n",
        "  \n",
        "  ![inser.PNG](attachment:inser.PNG)\n",
        "  \n",
        "  2. Seleccionar la ubicación en la que se encuentra la imagen y dar clic en **OK**\n",
        "  \n",
        "  ![exa.PNG](attachment:exa.PNG)\n",
        "  \n",
        "  3. la imagen se verá reflejada al compilar la celda\n",
        "  \n",
        "  ![ejem.PNG](attachment:ejem.PNG)"
      ]
    },
    {
      "cell_type": "markdown",
      "metadata": {
        "id": "d54bef47"
      },
      "source": [
        "#Valor presente neto (VPN)\n",
        "\n",
        "#es una herramienta de análisis financiero que calcula\n",
        "#la diferencia entre el valor actual de los flujos de efectivo\n",
        "#futuros generados por una inversión y su costo inicial.\n",
        "#Este método considera el valor DEl dinero\n",
        "#En el tiempo para evaluar la rentabilidad de un\n",
        "#proyecto: si el VPN es positivo, la inversión es rentable;\n",
        "#si es negativo, no lo es; y si es cero, no cambia el valor de la empresa.\n",
        "\n",
        "##Formula del valor presente Neto (VPN)\n",
        "$$\n",
        "VPN = \\sum_{t=0}^{n} \\frac{C_t}{(1+r)^t} - C_0\n",
        "$$"
      ]
    },
    {
      "cell_type": "code",
      "source": [],
      "metadata": {
        "id": "QWqskbWxCw6u"
      },
      "execution_count": null,
      "outputs": []
    }
  ]
}